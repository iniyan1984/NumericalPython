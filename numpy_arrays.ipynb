{
  "nbformat": 4,
  "nbformat_minor": 0,
  "metadata": {
    "anaconda-cloud": {},
    "kernelspec": {
      "display_name": "Python 3",
      "language": "python",
      "name": "python3"
    },
    "language_info": {
      "codemirror_mode": {
        "name": "ipython",
        "version": 3
      },
      "file_extension": ".py",
      "mimetype": "text/x-python",
      "name": "python",
      "nbconvert_exporter": "python",
      "pygments_lexer": "ipython3",
      "version": "3.7.6"
    },
    "colab": {
      "name": "numpy_arrays.ipynb",
      "provenance": []
    }
  },
  "cells": [
    {
      "cell_type": "markdown",
      "metadata": {
        "id": "-o4Ub4Jld_xg"
      },
      "source": [
        "# Numpy Arrays"
      ]
    },
    {
      "cell_type": "markdown",
      "metadata": {
        "id": "W6HFXxNbd_xl"
      },
      "source": [
        "We'll import the `numpy` module using the short form `np` to save us typing. "
      ]
    },
    {
      "cell_type": "code",
      "metadata": {
        "id": "swNb5Jjld_xl"
      },
      "source": [
        "import numpy as np # imports a fast numerical programming library"
      ],
      "execution_count": 1,
      "outputs": []
    },
    {
      "cell_type": "markdown",
      "metadata": {
        "id": "He-Eq26-d_xm"
      },
      "source": [
        "![](https://github.com/iniyan1984/NumericalPython/blob/main/numpy_arrays.slides.dir/2.png?raw=1)"
      ]
    },
    {
      "cell_type": "markdown",
      "metadata": {
        "id": "PK5yrUwid_xm"
      },
      "source": [
        "## Starting up with numpy arrays\n",
        "\n",
        "Scientific Python code uses a fast array structure, called the numpy array. Those who have worked in Matlab will find this very natural.   For reference, the numpy documention can be found [here](https://docs.scipy.org/doc/numpy/reference/).  \n",
        "\n",
        "Let's make a numpy array."
      ]
    },
    {
      "cell_type": "code",
      "metadata": {
        "id": "yXrb5lZVd_xn",
        "outputId": "d15949cd-2d77-452c-a7dc-802ed941fd8e",
        "colab": {
          "base_uri": "https://localhost:8080/"
        }
      },
      "source": [
        "my_array = np.array([1, 2, 3, 4])\n",
        "my_array"
      ],
      "execution_count": 2,
      "outputs": [
        {
          "output_type": "execute_result",
          "data": {
            "text/plain": [
              "array([1, 2, 3, 4])"
            ]
          },
          "metadata": {
            "tags": []
          },
          "execution_count": 2
        }
      ]
    },
    {
      "cell_type": "markdown",
      "metadata": {
        "id": "yV105LkCd_xo"
      },
      "source": [
        "Numpy arrays are listy! Below we compute length, slice, and iterate. "
      ]
    },
    {
      "cell_type": "code",
      "metadata": {
        "id": "efqZ3_mCd_xo",
        "outputId": "0c6c457f-0443-424e-9926-1206fb811cfc",
        "colab": {
          "base_uri": "https://localhost:8080/"
        }
      },
      "source": [
        "print(len(my_array))\n",
        "print(my_array[2:4])\n",
        "for ele in my_array:\n",
        "    print(ele)"
      ],
      "execution_count": 3,
      "outputs": [
        {
          "output_type": "stream",
          "text": [
            "4\n",
            "[3 4]\n",
            "1\n",
            "2\n",
            "3\n",
            "4\n"
          ],
          "name": "stdout"
        }
      ]
    },
    {
      "cell_type": "markdown",
      "metadata": {
        "id": "EXjyjjrnd_xp"
      },
      "source": [
        "**However, in general you should manipulate numpy arrays by using numpy module functions** (`np.mean`, for example). This is for efficiency purposes, see the Vanderplas book. But briefly:\n",
        "\n",
        "1. numpy arrays are typed, you keep ints together or floats together. They are not meant to combine objects of different types like python lists do.\n",
        "2. numpy arrays are defined in the C language. You do not have to convert between python floats and C floats for example. Python types are different from the corresponding C-types because Python is garbage collected.\n",
        "\n",
        "You can calculate the mean of the array elements either by calling the method `.mean` on a numpy array or by applying the function np.mean with the numpy array as an argument."
      ]
    },
    {
      "cell_type": "code",
      "metadata": {
        "id": "FOz5QUcrd_xp",
        "outputId": "bb09473a-3d01-4388-97a1-1c7d17ab47eb",
        "colab": {
          "base_uri": "https://localhost:8080/"
        }
      },
      "source": [
        "print(my_array.mean())\n",
        "print(np.mean(my_array))"
      ],
      "execution_count": 4,
      "outputs": [
        {
          "output_type": "stream",
          "text": [
            "2.5\n",
            "2.5\n"
          ],
          "name": "stdout"
        }
      ]
    },
    {
      "cell_type": "markdown",
      "metadata": {
        "id": "5hNfcyl2d_xq"
      },
      "source": [
        "The way we constructed the numpy array above seems redundant..after all we already had a regular python list. Indeed, it is the other ways we have to construct numpy arrays that make them super useful. \n",
        "\n",
        "There are many such numpy array *constructors*. Here are some commonly used constructors. Look them up in the documentation."
      ]
    },
    {
      "cell_type": "code",
      "metadata": {
        "id": "wksZjhwud_xq",
        "outputId": "3db65a99-3a7a-4adf-b272-0c2e16191b1a",
        "colab": {
          "base_uri": "https://localhost:8080/"
        }
      },
      "source": [
        "np.ones(10) # generates 10 floating point ones"
      ],
      "execution_count": 5,
      "outputs": [
        {
          "output_type": "execute_result",
          "data": {
            "text/plain": [
              "array([1., 1., 1., 1., 1., 1., 1., 1., 1., 1.])"
            ]
          },
          "metadata": {
            "tags": []
          },
          "execution_count": 5
        }
      ]
    },
    {
      "cell_type": "markdown",
      "metadata": {
        "id": "OZt4nM3Wd_xq"
      },
      "source": [
        "**Numpy gains a lot of its efficiency from being typed**. That is, all elements in the array have the same type, such as integer or floating point. The default type, as can be seen above, is a float of size appropriate for the machine (64 bit on a 64 bit machine)."
      ]
    },
    {
      "cell_type": "code",
      "metadata": {
        "id": "8GLcYaAyd_xq",
        "outputId": "5e31d2c9-3291-4f8c-dc9e-54754500f677",
        "colab": {
          "base_uri": "https://localhost:8080/"
        }
      },
      "source": [
        "np.dtype(float).itemsize # in bytes"
      ],
      "execution_count": 6,
      "outputs": [
        {
          "output_type": "execute_result",
          "data": {
            "text/plain": [
              "8"
            ]
          },
          "metadata": {
            "tags": []
          },
          "execution_count": 6
        }
      ]
    },
    {
      "cell_type": "code",
      "metadata": {
        "id": "3EKiwp44d_xr",
        "outputId": "f14050d4-ae1f-49f4-a3e8-8ae01a58f8ae",
        "colab": {
          "base_uri": "https://localhost:8080/"
        }
      },
      "source": [
        "np.ones(10, dtype='int') # generates 10 integer ones"
      ],
      "execution_count": 7,
      "outputs": [
        {
          "output_type": "execute_result",
          "data": {
            "text/plain": [
              "array([1, 1, 1, 1, 1, 1, 1, 1, 1, 1])"
            ]
          },
          "metadata": {
            "tags": []
          },
          "execution_count": 7
        }
      ]
    },
    {
      "cell_type": "code",
      "metadata": {
        "id": "loLe3D6Pd_xr",
        "outputId": "e8e8eeef-5732-4922-99ef-727a6e39b2e8",
        "colab": {
          "base_uri": "https://localhost:8080/"
        }
      },
      "source": [
        "np.ones(10).dtype"
      ],
      "execution_count": 8,
      "outputs": [
        {
          "output_type": "execute_result",
          "data": {
            "text/plain": [
              "dtype('float64')"
            ]
          },
          "metadata": {
            "tags": []
          },
          "execution_count": 8
        }
      ]
    },
    {
      "cell_type": "markdown",
      "metadata": {
        "id": "iDgNtx9jd_xr"
      },
      "source": [
        "## Numpy supports vector operations\n",
        "\n",
        "What does this mean? It means that instead of adding two arrays, element by element, you can just say: add the two arrays. Note that this behavior is very different from python lists.\n",
        "\n",
        "![](https://github.com/iniyan1984/NumericalPython/blob/main/numpy_arrays.slides.dir/3.png?raw=1)"
      ]
    },
    {
      "cell_type": "code",
      "metadata": {
        "id": "YygqOM10d_xr",
        "outputId": "51231146-960f-4d2a-a7d6-54cf95846fa6"
      },
      "source": [
        "first = np.ones(5)\n",
        "second = np.ones(5)\n",
        "first + second"
      ],
      "execution_count": null,
      "outputs": [
        {
          "output_type": "execute_result",
          "data": {
            "text/plain": [
              "array([2., 2., 2., 2., 2.])"
            ]
          },
          "metadata": {
            "tags": []
          },
          "execution_count": 11
        }
      ]
    },
    {
      "cell_type": "code",
      "metadata": {
        "id": "ExOXw3GAd_xs",
        "outputId": "28d443b2-860f-47b7-e056-868015950323"
      },
      "source": [
        "first_list = [1., 1., 1., 1., 1.]\n",
        "second_list = [1., 1., 1., 1., 1.]\n",
        "first_list + second_list #not what u want"
      ],
      "execution_count": null,
      "outputs": [
        {
          "output_type": "execute_result",
          "data": {
            "text/plain": [
              "[1.0, 1.0, 1.0, 1.0, 1.0, 1.0, 1.0, 1.0, 1.0, 1.0]"
            ]
          },
          "metadata": {
            "tags": []
          },
          "execution_count": 12
        }
      ]
    },
    {
      "cell_type": "markdown",
      "metadata": {
        "id": "Jw572u-ud_xs"
      },
      "source": [
        "On some computer chips this addition actually happens in parallel, so speedups can be high. But even on regular chips, the advantage of greater readability is important."
      ]
    },
    {
      "cell_type": "markdown",
      "metadata": {
        "id": "epV1qThrd_xs"
      },
      "source": [
        "Numpy supports a concept known as *broadcasting*, which dictates how arrays of different sizes are combined together. There are too many rules to list here, but importantly, multiplying an array by a number multiplies each element by the number. Adding a number adds the number to each element."
      ]
    },
    {
      "cell_type": "code",
      "metadata": {
        "id": "o2ad5BRNd_xs",
        "outputId": "a66d5daf-8dcb-431a-e8be-ffc1971a4577"
      },
      "source": [
        "first + 1"
      ],
      "execution_count": null,
      "outputs": [
        {
          "output_type": "execute_result",
          "data": {
            "text/plain": [
              "array([2., 2., 2., 2., 2.])"
            ]
          },
          "metadata": {
            "tags": []
          },
          "execution_count": 13
        }
      ]
    },
    {
      "cell_type": "code",
      "metadata": {
        "id": "3dVs45xid_xt",
        "outputId": "5109c948-16ff-4d3a-86c0-4bb65399ae07"
      },
      "source": [
        "first*5"
      ],
      "execution_count": null,
      "outputs": [
        {
          "output_type": "execute_result",
          "data": {
            "text/plain": [
              "array([5., 5., 5., 5., 5.])"
            ]
          },
          "metadata": {
            "tags": []
          },
          "execution_count": 14
        }
      ]
    },
    {
      "cell_type": "markdown",
      "metadata": {
        "id": "Tn2XwuAPd_xt"
      },
      "source": [
        "## 2D arrays\n",
        "\n",
        "Similarly, we can create two-dimensional arrays.\n",
        "\n",
        "![](https://github.com/iniyan1984/NumericalPython/blob/main/numpy_arrays.slides.dir/6.png?raw=1)"
      ]
    },
    {
      "cell_type": "code",
      "metadata": {
        "id": "DHKzW1jyd_xt",
        "outputId": "4b081e78-8e5e-4eec-bf2f-a2095f3f6870"
      },
      "source": [
        "my_array2d = np.array([ [1, 2, 3, 4], [5, 6, 7, 8], [9, 10, 11, 12] ])\n",
        "my_array2d"
      ],
      "execution_count": null,
      "outputs": [
        {
          "output_type": "execute_result",
          "data": {
            "text/plain": [
              "array([[ 1,  2,  3,  4],\n",
              "       [ 5,  6,  7,  8],\n",
              "       [ 9, 10, 11, 12]])"
            ]
          },
          "metadata": {
            "tags": []
          },
          "execution_count": 15
        }
      ]
    },
    {
      "cell_type": "code",
      "metadata": {
        "id": "mGYDo_xCd_xt",
        "outputId": "7416c16c-25df-4494-e741-4139d8d7289b"
      },
      "source": [
        "# 3 x 4 array of ones\n",
        "ones_2d = np.ones([3, 4])\n",
        "ones_2d"
      ],
      "execution_count": null,
      "outputs": [
        {
          "output_type": "execute_result",
          "data": {
            "text/plain": [
              "array([[1., 1., 1., 1.],\n",
              "       [1., 1., 1., 1.],\n",
              "       [1., 1., 1., 1.]])"
            ]
          },
          "metadata": {
            "tags": []
          },
          "execution_count": 16
        }
      ]
    },
    {
      "cell_type": "markdown",
      "metadata": {
        "id": "WsMqbf2Nd_xt"
      },
      "source": [
        "Like lists, numpy arrays are 0-indexed.  Thus we can access the $n$th row and the $m$th column of a two-dimensional array with the indices $[n - 1, m - 1]$."
      ]
    },
    {
      "cell_type": "code",
      "metadata": {
        "id": "E0JKZzcKd_xu",
        "outputId": "b5ff3cbe-cb4f-4db0-d6fb-6841dd775926"
      },
      "source": [
        "print(my_array2d)\n",
        "my_array2d[2, 3]"
      ],
      "execution_count": null,
      "outputs": [
        {
          "output_type": "stream",
          "text": [
            "[[ 1  2  3  4]\n",
            " [ 5  6  7  8]\n",
            " [ 9 10 11 12]]\n"
          ],
          "name": "stdout"
        },
        {
          "output_type": "execute_result",
          "data": {
            "text/plain": [
              "12"
            ]
          },
          "metadata": {
            "tags": []
          },
          "execution_count": 17
        }
      ]
    },
    {
      "cell_type": "markdown",
      "metadata": {
        "id": "pHP-0xGwd_xu"
      },
      "source": [
        "The 2D arrays are listy as well. They have set length (array dimensions), can be sliced, and can be iterated over with loop.  Below is a schematic illustrating slicing two-dimensional arrays.  \n",
        "\n",
        " <img src=\"https://github.com/iniyan1984/NumericalPython/blob/main/images/2dindex_v2.png?raw=1\" alt=\"Drawing\" style=\"width: 500px;\"/>"
      ]
    },
    {
      "cell_type": "markdown",
      "metadata": {
        "id": "xTne-FBed_xu"
      },
      "source": [
        "In two dimensions, we need to provide the **shape** of the array, ie, the number of rows and columns of the array."
      ]
    },
    {
      "cell_type": "code",
      "metadata": {
        "id": "ravN51K_d_xu",
        "outputId": "1b8b448b-0aea-46c4-b52f-8ccf9c85c866"
      },
      "source": [
        "onesarray = np.ones([3,4])\n",
        "onesarray"
      ],
      "execution_count": null,
      "outputs": [
        {
          "output_type": "execute_result",
          "data": {
            "text/plain": [
              "array([[1., 1., 1., 1.],\n",
              "       [1., 1., 1., 1.],\n",
              "       [1., 1., 1., 1.]])"
            ]
          },
          "metadata": {
            "tags": []
          },
          "execution_count": 18
        }
      ]
    },
    {
      "cell_type": "code",
      "metadata": {
        "id": "uvr_-j9Ed_xv",
        "outputId": "4d4fd8ed-8010-4f9e-9982-9661759eb000"
      },
      "source": [
        "onesarray.shape"
      ],
      "execution_count": null,
      "outputs": [
        {
          "output_type": "execute_result",
          "data": {
            "text/plain": [
              "(3, 4)"
            ]
          },
          "metadata": {
            "tags": []
          },
          "execution_count": 19
        }
      ]
    },
    {
      "cell_type": "markdown",
      "metadata": {
        "id": "1MsHY8PFd_xv"
      },
      "source": [
        "Numpy functions will by default work on the entire array:"
      ]
    },
    {
      "cell_type": "code",
      "metadata": {
        "id": "_7SczD-rd_xv",
        "outputId": "dcf9dacd-68e3-46d2-8641-3dba0a9968c8"
      },
      "source": [
        "np.sum(onesarray)"
      ],
      "execution_count": null,
      "outputs": [
        {
          "output_type": "execute_result",
          "data": {
            "text/plain": [
              "12.0"
            ]
          },
          "metadata": {
            "tags": []
          },
          "execution_count": 20
        }
      ]
    },
    {
      "cell_type": "markdown",
      "metadata": {
        "id": "bOhBTF3Wd_xv"
      },
      "source": [
        "The axis 0 is the one going downwards (the $y$-axis, so to speak), whereas axis 1 is the one going across (the $x$-axis). You will often use functions such as `mean`, `sum`, with an axis."
      ]
    },
    {
      "cell_type": "code",
      "metadata": {
        "id": "ReiJ3VlGd_xv",
        "outputId": "fc86b5bf-0b8d-43f7-a1eb-95564b834585"
      },
      "source": [
        "np.sum(onesarray, axis=0)"
      ],
      "execution_count": null,
      "outputs": [
        {
          "output_type": "execute_result",
          "data": {
            "text/plain": [
              "array([3., 3., 3., 3.])"
            ]
          },
          "metadata": {
            "tags": []
          },
          "execution_count": 21
        }
      ]
    },
    {
      "cell_type": "code",
      "metadata": {
        "id": "0VKK0MMpd_xw",
        "outputId": "064eed8d-3833-464a-ce3f-39da59c99458"
      },
      "source": [
        "np.sum(my_array2d, axis=0)"
      ],
      "execution_count": null,
      "outputs": [
        {
          "output_type": "execute_result",
          "data": {
            "text/plain": [
              "array([15, 18, 21, 24])"
            ]
          },
          "metadata": {
            "tags": []
          },
          "execution_count": 22
        }
      ]
    },
    {
      "cell_type": "code",
      "metadata": {
        "id": "wZwIuRoBd_xw",
        "outputId": "b2a8634b-67f5-4f30-a50b-58c9247907aa"
      },
      "source": [
        "np.sum(onesarray, axis=1)"
      ],
      "execution_count": null,
      "outputs": [
        {
          "output_type": "execute_result",
          "data": {
            "text/plain": [
              "array([4., 4., 4.])"
            ]
          },
          "metadata": {
            "tags": []
          },
          "execution_count": 23
        }
      ]
    },
    {
      "cell_type": "markdown",
      "metadata": {
        "id": "EOL21px7d_xw"
      },
      "source": [
        "You should notice that access is row-by-row and one dimensional iteration gives a row. This is because `numpy` lays out memory row-wise.\n",
        "\n",
        "![](https://github.com/iniyan1984/NumericalPython/blob/main/images/2d-array-layout.png?raw=1)\n",
        "\n",
        "(from https://aaronbloomfield.github.io)"
      ]
    },
    {
      "cell_type": "markdown",
      "metadata": {
        "id": "0rW4aCmJd_xw"
      },
      "source": [
        "An often seen idiom allocates a two-dimensional array, and then fills in one-dimensional arrays from some function:"
      ]
    },
    {
      "cell_type": "code",
      "metadata": {
        "id": "yWyiFZcKd_xw",
        "outputId": "b46b4470-5f37-46c2-b29f-b3ce80a30d86"
      },
      "source": [
        "empty_array = np.empty((2,3))\n",
        "empty_array"
      ],
      "execution_count": null,
      "outputs": [
        {
          "output_type": "execute_result",
          "data": {
            "text/plain": [
              "array([[0., 0., 0.],\n",
              "       [0., 0., 0.]])"
            ]
          },
          "metadata": {
            "tags": []
          },
          "execution_count": 25
        }
      ]
    },
    {
      "cell_type": "code",
      "metadata": {
        "id": "2Roh-AgAd_xw",
        "outputId": "048c9536-280e-4089-c908-e219e65fdd30"
      },
      "source": [
        "for i in range(empty_array.shape[0]):\n",
        "    print(empty_array[i])"
      ],
      "execution_count": null,
      "outputs": [
        {
          "output_type": "stream",
          "text": [
            "[0. 0. 0.]\n",
            "[0. 0. 0.]\n"
          ],
          "name": "stdout"
        }
      ]
    },
    {
      "cell_type": "code",
      "metadata": {
        "id": "g60EItx6d_xx",
        "outputId": "ad990bf9-6872-41b0-d532-f7b4751dfd9d"
      },
      "source": [
        "for i in range(empty_array.shape[0]):\n",
        "    empty_array[i] = np.random.rand(3)\n",
        "empty_array"
      ],
      "execution_count": null,
      "outputs": [
        {
          "output_type": "execute_result",
          "data": {
            "text/plain": [
              "array([[0.68625855, 0.09451053, 0.9559449 ],\n",
              "       [0.03386545, 0.08089574, 0.84962253]])"
            ]
          },
          "metadata": {
            "tags": []
          },
          "execution_count": 29
        }
      ]
    },
    {
      "cell_type": "markdown",
      "metadata": {
        "id": "EXOHQZoDd_xx"
      },
      "source": [
        "## Pandas and numpy\n",
        "\n",
        "You can very easily convert from Pandas to numpy. Just use the `.values` attribute on a pandas dataframe or series."
      ]
    },
    {
      "cell_type": "code",
      "metadata": {
        "id": "6LUnqgXSd_xx",
        "outputId": "9d530e7f-78ce-4ba7-efe9-9bbead3fa810"
      },
      "source": [
        "import pandas as pd\n",
        "combined = pd.read_csv('data/combined_population_votes.csv')\n",
        "combined.head()"
      ],
      "execution_count": null,
      "outputs": [
        {
          "output_type": "execute_result",
          "data": {
            "text/html": [
              "<div>\n",
              "<style scoped>\n",
              "    .dataframe tbody tr th:only-of-type {\n",
              "        vertical-align: middle;\n",
              "    }\n",
              "\n",
              "    .dataframe tbody tr th {\n",
              "        vertical-align: top;\n",
              "    }\n",
              "\n",
              "    .dataframe thead th {\n",
              "        text-align: right;\n",
              "    }\n",
              "</style>\n",
              "<table border=\"1\" class=\"dataframe\">\n",
              "  <thead>\n",
              "    <tr style=\"text-align: right;\">\n",
              "      <th></th>\n",
              "      <th>State</th>\n",
              "      <th>Population</th>\n",
              "      <th>Votes</th>\n",
              "      <th>popmills</th>\n",
              "    </tr>\n",
              "  </thead>\n",
              "  <tbody>\n",
              "    <tr>\n",
              "      <th>0</th>\n",
              "      <td>Alaska</td>\n",
              "      <td>710000</td>\n",
              "      <td>3</td>\n",
              "      <td>0.710</td>\n",
              "    </tr>\n",
              "    <tr>\n",
              "      <th>1</th>\n",
              "      <td>Alabama</td>\n",
              "      <td>4780000</td>\n",
              "      <td>9</td>\n",
              "      <td>4.780</td>\n",
              "    </tr>\n",
              "    <tr>\n",
              "      <th>2</th>\n",
              "      <td>Arkansas</td>\n",
              "      <td>2916000</td>\n",
              "      <td>6</td>\n",
              "      <td>2.916</td>\n",
              "    </tr>\n",
              "    <tr>\n",
              "      <th>3</th>\n",
              "      <td>Arizona</td>\n",
              "      <td>6392000</td>\n",
              "      <td>11</td>\n",
              "      <td>6.392</td>\n",
              "    </tr>\n",
              "    <tr>\n",
              "      <th>4</th>\n",
              "      <td>California</td>\n",
              "      <td>37254000</td>\n",
              "      <td>55</td>\n",
              "      <td>37.254</td>\n",
              "    </tr>\n",
              "  </tbody>\n",
              "</table>\n",
              "</div>"
            ],
            "text/plain": [
              "        State  Population  Votes  popmills\n",
              "0      Alaska      710000      3     0.710\n",
              "1     Alabama     4780000      9     4.780\n",
              "2    Arkansas     2916000      6     2.916\n",
              "3     Arizona     6392000     11     6.392\n",
              "4  California    37254000     55    37.254"
            ]
          },
          "metadata": {
            "tags": []
          },
          "execution_count": 30
        }
      ]
    },
    {
      "cell_type": "markdown",
      "metadata": {
        "id": "8lKqCk_kd_xx"
      },
      "source": [
        "For a Series Object:"
      ]
    },
    {
      "cell_type": "code",
      "metadata": {
        "id": "-PzMPsfWd_xx",
        "outputId": "bbaec4f5-04e4-42bd-f4ce-6e4149db3ba3"
      },
      "source": [
        "combined.Votes.values"
      ],
      "execution_count": null,
      "outputs": [
        {
          "output_type": "execute_result",
          "data": {
            "text/plain": [
              "array([ 3,  9,  6, 11, 55,  9,  7,  3,  3, 29, 16,  4,  6,  4, 20, 11,  6,\n",
              "        8,  8, 11, 10,  4, 16, 10, 10,  6,  3, 15,  3,  5,  4, 14,  5,  6,\n",
              "       29, 18,  7,  7, 20,  4,  9,  3, 11, 38,  6, 13,  3, 12, 10,  5,  3])"
            ]
          },
          "metadata": {
            "tags": []
          },
          "execution_count": 31
        }
      ]
    },
    {
      "cell_type": "markdown",
      "metadata": {
        "id": "z4SA0Np2d_xx"
      },
      "source": [
        "For a Dataframe:"
      ]
    },
    {
      "cell_type": "code",
      "metadata": {
        "id": "ly1hI734d_xy",
        "outputId": "1aff6259-8830-479c-eb83-f85b3497e8b4"
      },
      "source": [
        "combined[['popmills', 'Votes']].values"
      ],
      "execution_count": null,
      "outputs": [
        {
          "output_type": "execute_result",
          "data": {
            "text/plain": [
              "array([[ 0.71 ,  3.   ],\n",
              "       [ 4.78 ,  9.   ],\n",
              "       [ 2.916,  6.   ],\n",
              "       [ 6.392, 11.   ],\n",
              "       [37.254, 55.   ],\n",
              "       [ 5.029,  9.   ],\n",
              "       [ 3.574,  7.   ],\n",
              "       [ 0.602,  3.   ],\n",
              "       [ 0.898,  3.   ],\n",
              "       [18.801, 29.   ],\n",
              "       [ 9.688, 16.   ],\n",
              "       [ 1.36 ,  4.   ],\n",
              "       [ 3.046,  6.   ],\n",
              "       [ 1.568,  4.   ],\n",
              "       [12.831, 20.   ],\n",
              "       [ 6.484, 11.   ],\n",
              "       [ 2.853,  6.   ],\n",
              "       [ 4.339,  8.   ],\n",
              "       [ 4.533,  8.   ],\n",
              "       [ 6.548, 11.   ],\n",
              "       [ 5.774, 10.   ],\n",
              "       [ 1.328,  4.   ],\n",
              "       [ 9.884, 16.   ],\n",
              "       [ 5.304, 10.   ],\n",
              "       [ 5.989, 10.   ],\n",
              "       [ 2.967,  6.   ],\n",
              "       [ 0.989,  3.   ],\n",
              "       [ 9.535, 15.   ],\n",
              "       [ 0.673,  3.   ],\n",
              "       [ 1.826,  5.   ],\n",
              "       [ 1.316,  4.   ],\n",
              "       [ 8.792, 14.   ],\n",
              "       [ 2.059,  5.   ],\n",
              "       [ 2.701,  6.   ],\n",
              "       [19.378, 29.   ],\n",
              "       [11.537, 18.   ],\n",
              "       [ 3.751,  7.   ],\n",
              "       [ 3.831,  7.   ],\n",
              "       [12.702, 20.   ],\n",
              "       [ 1.053,  4.   ],\n",
              "       [ 4.625,  9.   ],\n",
              "       [ 0.814,  3.   ],\n",
              "       [ 6.346, 11.   ],\n",
              "       [25.146, 38.   ],\n",
              "       [ 2.764,  6.   ],\n",
              "       [ 8.001, 13.   ],\n",
              "       [ 0.626,  3.   ],\n",
              "       [ 6.725, 12.   ],\n",
              "       [ 5.687, 10.   ],\n",
              "       [ 1.853,  5.   ],\n",
              "       [ 0.564,  3.   ]])"
            ]
          },
          "metadata": {
            "tags": []
          },
          "execution_count": 32
        }
      ]
    },
    {
      "cell_type": "markdown",
      "metadata": {
        "id": "dSoP7GKod_xy"
      },
      "source": [
        "Using `values` then gives us a multi-dimensional numpy array (notice how the ints are cast to floats to keep the data types the same)."
      ]
    }
  ]
}